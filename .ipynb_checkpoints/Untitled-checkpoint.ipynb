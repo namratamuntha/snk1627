{
 "cells": [
  {
   "cell_type": "markdown",
   "id": "54980670-1e6e-4199-a2ec-519d2d387e64",
   "metadata": {},
   "source": [
    " Importing and installing Python Libraries"
   ]
  },
  {
   "cell_type": "code",
   "execution_count": null,
   "id": "37949df1-7fb4-4f7c-be52-85b8d09dd45f",
   "metadata": {},
   "outputs": [],
   "source": [
    "# Introducing the required libraries in the project\n",
    "\n",
    "'''\n",
    "To perform various tasks such as data reading, wrangling, pre-processing,\n",
    "visualization, testing, accessing databases, and ignoring warnings in Python,\n",
    "we needs to install and import the necessary libraries\n",
    "'''\n",
    "\n",
    "\n",
    "# Importing Libraries which are used to facilitate the handling and manipulation of data\n",
    "import numpy as np  #importing numpy\n",
    "import pandas as pd  #importing pandas\n",
    "pd.options.display.max_columns = 100  #setting maximum columns to display  as 100\n",
    "import math\n",
    "from sklearn import metrics\n",
    "from sklearn.metrics import r2_score\n",
    "from sklearn import linear_model\n",
    "from sklearn.linear_model import LinearRegression\n",
    "from sklearn.preprocessing import PolynomialFeatures\n",
    "\n",
    "\n",
    "# Importing Libraries for visualizating the data\n",
    "import seaborn as sb\n",
    "sb.set()\n",
    "from matplotlib import style\n",
    "%matplotlib inline\n",
    "import matplotlib.pyplot as plot\n",
    "plot.rcParams[\"figure.figsize\"] = (12,6)  #setting up  figure size\n",
    "from bokeh.plotting import show, figure, output_file \n",
    "\n",
    "# Importing required Libraries for accessing the database\n",
    "import pymysql\n",
    "import sqlalchemy\n",
    "import sqlalchemy as sql_alchemy_db     \n",
    "from sqlalchemy import create_engine, select, MetaData, Table, and_, Column, Integer, String, Date, Boolean\n",
    "#To get imported sqlalchemy and pymysql libraries version\n",
    "print(\"pymysql: {}\".format(pymysql.__version__))\n",
    "print(\"sqlalchemy: {}\".format(sqlalchemy.__version__))\n",
    "\n",
    "# Importing required Library for testing data\n",
    "import unittest\n",
    "\n",
    "# Code to ignore warnings from function usage\n",
    "import warnings;\n",
    "warnings.filterwarnings('ignore')"
   ]
  },
  {
   "cell_type": "markdown",
   "id": "8e40ed0d-7e5b-4e5f-a322-cbae68e3bd08",
   "metadata": {},
   "source": [
    "Understanding of Data"
   ]
  },
  {
   "cell_type": "code",
   "execution_count": 26,
   "id": "cf256090-4cda-4493-a7e7-2f65ff86a1b4",
   "metadata": {},
   "outputs": [],
   "source": [
    "#Reading  csv files and creating  pandas data frame\n",
    "df_ideal = pd.read_csv(\"ideal.csv\")\n",
    "df_train = pd.read_csv(\"train.csv\") \n",
    "df_test = pd.read_csv(\"test.csv\")"
   ]
  },
  {
   "cell_type": "markdown",
   "id": "cea246d0-a18a-45ab-83b2-c6b43a52b73b",
   "metadata": {},
   "source": [
    "Counting  of rows and columns for each dataset i.e., train, test and ideal datasets"
   ]
  },
  {
   "cell_type": "code",
   "execution_count": 27,
   "id": "29a10bbd-5d2b-4e35-b809-fef86d30a96e",
   "metadata": {},
   "outputs": [
    {
     "name": "stdout",
     "output_type": "stream",
     "text": [
      "No. of rows in ideal set are: 400\n",
      "No. of columns in ideal set are: 51\n"
     ]
    }
   ],
   "source": [
    "# Finding out number of rows and columns in ideal dataframe\n",
    "\n",
    "print('No. of rows in ideal set are:', df_ideal.shape[0])\n",
    "print('No. of columns in ideal set are:', df_ideal.shape[1])"
   ]
  },
  {
   "cell_type": "code",
   "execution_count": 39,
   "id": "8b71b9df-098f-4500-946b-a8b91b58990e",
   "metadata": {},
   "outputs": [
    {
     "name": "stdout",
     "output_type": "stream",
     "text": [
      "No. of rows in train set are: 100\n",
      "No. of columns in train set are: 2\n"
     ]
    }
   ],
   "source": [
    "# Find number of rows and columns in train dataframe\n",
    "\n",
    "print('No. of rows in train set are:', df_train.shape[0])\n",
    "print('No. of columns in train set are:', df_train.shape[1])"
   ]
  },
  {
   "cell_type": "code",
   "execution_count": null,
   "id": "71cb0b22-d5c4-4d06-bd34-9c0fe8856c6f",
   "metadata": {},
   "outputs": [],
   "source": []
  },
  {
   "cell_type": "code",
   "execution_count": null,
   "id": "948ca186-fd1e-481c-8ecd-706885ac621e",
   "metadata": {},
   "outputs": [],
   "source": []
  }
 ],
 "metadata": {
  "kernelspec": {
   "display_name": "Python 3 (ipykernel)",
   "language": "python",
   "name": "python3"
  },
  "language_info": {
   "codemirror_mode": {
    "name": "ipython",
    "version": 3
   },
   "file_extension": ".py",
   "mimetype": "text/x-python",
   "name": "python",
   "nbconvert_exporter": "python",
   "pygments_lexer": "ipython3",
   "version": "3.12.3"
  }
 },
 "nbformat": 4,
 "nbformat_minor": 5
}
